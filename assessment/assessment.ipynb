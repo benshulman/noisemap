{
 "cells": [
  {
   "cell_type": "markdown",
   "metadata": {},
   "source": [
    "# Assessing the performance of guessing the grand mean accross observations"
   ]
  },
  {
   "cell_type": "code",
   "execution_count": 178,
   "metadata": {},
   "outputs": [],
   "source": [
    "import pandas as pd\n",
    "import numpy as np\n",
    "from sklearn.dummy import DummyRegressor\n",
    "from sklearn.metrics import r2_score\n",
    "from random import sample\n",
    "import geopy.distance\n",
    "from geopy import distance\n",
    "import itertools\n",
    "\n",
    "noise = pd.read_csv('/Users/Ben/Dropbox/Insight/noisemap/data-merge/noise-merged.csv')"
   ]
  },
  {
   "cell_type": "code",
   "execution_count": 23,
   "metadata": {},
   "outputs": [],
   "source": [
    "lreg = DummyRegressor(strategy = 'mean')\n",
    "lreg = lreg.fit(y = noise.db, X = noise.drop('db', axis = 1))"
   ]
  },
  {
   "cell_type": "code",
   "execution_count": 30,
   "metadata": {},
   "outputs": [
    {
     "data": {
      "text/plain": [
       "0.0"
      ]
     },
     "execution_count": 30,
     "metadata": {},
     "output_type": "execute_result"
    }
   ],
   "source": [
    "r2_score(noise.db, lreg.predict(noise.drop('db', axis = 1)))"
   ]
  },
  {
   "cell_type": "markdown",
   "metadata": {},
   "source": [
    "# Assessing the benefit of finding the quietest park"
   ]
  },
  {
   "cell_type": "code",
   "execution_count": 112,
   "metadata": {},
   "outputs": [],
   "source": [
    "park_locs = pd.read_csv('/Users/Ben/Dropbox/Insight/noisemap/dash/parks_clean.csv')\n",
    "park_preds = pd.read_csv('/Users/Ben/Dropbox/Insight/noisemap/dash/parks_out.csv')\n",
    "\n",
    "def calc_park_dist(user_coord):\n",
    "    '''\n",
    "    Calculate distance between user coords and all parks\n",
    "    '''\n",
    "    park_dists = []\n",
    "    all_dists = [geopy.distance.distance(\n",
    "                (user_coord['lat'], user_coord['lng']),\n",
    "                (p_lat, p_lng)\n",
    "                ).m for p_lat, p_lng in zip(park_locs.lat, park_locs.lng)]\n",
    "    park_out = park_locs.assign(dists = all_dists)\n",
    "    return park_out\n",
    "\n",
    "bounds = [[42.23, -71.20], [42.419, -70.95]]\n",
    "\n",
    "def sample_points(bounds, n): \n",
    "    '''\n",
    "    samples a point from within the bounding box\n",
    "    '''\n",
    "    lat_vals = np.random.uniform(bounds[0][0], bounds[1][0], n)\n",
    "    lng_vals = np.random.uniform(bounds[0][1], bounds[1][1], n)\n",
    "    \n",
    "    user_points = [{\n",
    "        # sample lat range\n",
    "        'lat': lat,\n",
    "        # sample lng range\n",
    "        'lng': lng\n",
    "    } for lat, lng in zip(lat_vals, lng_vals)\n",
    "    ]\n",
    "    \n",
    "    return user_points\n",
    "\n",
    "def compare_parks(user_point, hour_bkt, wkday):\n",
    "    '''\n",
    "    finds the predicted db level for the quietest park in 2 miles\n",
    "    and the nearest park\n",
    "    '''\n",
    "    # get park dists\n",
    "    parkdists = calc_park_dist(user_point)\n",
    "    # filter for parks less than 2 miles\n",
    "    # 3218.688 m == 2 miles \n",
    "    close_parks = parkdists[parkdists.dists < 3218]\n",
    "    \n",
    "    if len(close_parks) > 0:\n",
    "    \n",
    "        # get park preds\n",
    "        close_park_preds = park_preds[park_preds.parkname.isin(close_parks.name)]\n",
    "        # filter for current time\n",
    "        close_park_preds = close_park_preds[\n",
    "            (close_park_preds.hr_bkt == hour_bkt) &\n",
    "            (close_park_preds.wkday == wkday)\n",
    "        ]\n",
    "\n",
    "        # find quietest park\n",
    "        quietest_park = close_park_preds[\n",
    "            close_park_preds.db == close_park_preds.db.min()\n",
    "        ].to_dict(orient = 'records')[0]\n",
    "\n",
    "        # find the closest park\n",
    "        closest_park_name = parkdists.loc[parkdists.dists == parkdists.dists.min(), 'name'].values[0]\n",
    "        closest_park = close_park_preds[\n",
    "            close_park_preds.parkname == closest_park_name\n",
    "        ].to_dict(orient = 'records')[0]\n",
    "\n",
    "        return {'closest': closest_park['db'], 'quietest': quietest_park['db']}"
   ]
  },
  {
   "cell_type": "code",
   "execution_count": 152,
   "metadata": {},
   "outputs": [
    {
     "name": "stdout",
     "output_type": "stream",
     "text": [
      "012 am - 2 am\n",
      "012 am - 2 am\n",
      "012 am - 2 am\n",
      "03 am - 7 am\n",
      "03 am - 7 am\n",
      "03 am - 7 am\n",
      "03 am - 7 am\n",
      "03 am - 7 am\n",
      "08 am - 10 am\n",
      "08 am - 10 am\n",
      "08 am - 10 am\n",
      "011 am - 1 pm\n",
      "011 am - 1 pm\n",
      "011 am - 1 pm\n",
      "02 pm - 4 pm\n",
      "02 pm - 4 pm\n",
      "02 pm - 4 pm\n",
      "05 pm - 8 pm\n",
      "05 pm - 8 pm\n",
      "05 pm - 8 pm\n",
      "05 pm - 8 pm\n",
      "09 pm - 11 pm\n",
      "09 pm - 11 pm\n",
      "09 pm - 11 pm\n",
      "112 am - 2 am\n",
      "112 am - 2 am\n",
      "112 am - 2 am\n",
      "13 am - 7 am\n",
      "13 am - 7 am\n",
      "13 am - 7 am\n",
      "13 am - 7 am\n",
      "13 am - 7 am\n",
      "18 am - 10 am\n",
      "18 am - 10 am\n",
      "18 am - 10 am\n",
      "111 am - 1 pm\n",
      "111 am - 1 pm\n",
      "111 am - 1 pm\n",
      "12 pm - 4 pm\n",
      "12 pm - 4 pm\n",
      "12 pm - 4 pm\n",
      "15 pm - 8 pm\n",
      "15 pm - 8 pm\n",
      "15 pm - 8 pm\n",
      "15 pm - 8 pm\n",
      "19 pm - 11 pm\n",
      "19 pm - 11 pm\n",
      "19 pm - 11 pm\n"
     ]
    }
   ],
   "source": [
    "wkday = [0, 1]\n",
    "hour_bkt = {\n",
    "    0: '12 am - 2 am',\n",
    "    1: '12 am - 2 am',\n",
    "    2: '12 am - 2 am',\n",
    "    3: '3 am - 7 am',\n",
    "    4: '3 am - 7 am',\n",
    "    5: '3 am - 7 am',\n",
    "    6: '3 am - 7 am',\n",
    "    7: '3 am - 7 am',\n",
    "    8: '8 am - 10 am',\n",
    "    9: '8 am - 10 am',\n",
    "    10: '8 am - 10 am',\n",
    "    11: '11 am - 1 pm',\n",
    "    12: '11 am - 1 pm',\n",
    "    13: '11 am - 1 pm',\n",
    "    14: '2 pm - 4 pm',\n",
    "    15: '2 pm - 4 pm',\n",
    "    16: '2 pm - 4 pm',\n",
    "    17: '5 pm - 8 pm',\n",
    "    18: '5 pm - 8 pm',\n",
    "    19: '5 pm - 8 pm',\n",
    "    20: '5 pm - 8 pm',\n",
    "    21: '9 pm - 11 pm',\n",
    "    22: '9 pm - 11 pm',\n",
    "    23: '9 pm - 11 pm'\n",
    "}\n",
    "\n",
    "day_hour = itertools.product(wkday, hour_bkt.values())\n",
    "\n",
    "points = sample_points(bounds, 1000)\n",
    "\n",
    "db_df = pd.DataFrame()\n",
    "for wkday, hour in day_hour:\n",
    "    print(str(wkday) + hour)\n",
    "    for point in points:\n",
    "        point_db = compare_parks(point, hour, wkday)\n",
    "        if point_db:\n",
    "            temp_df = pd.DataFrame({\n",
    "                'wkday': wkday,\n",
    "                'hour': hour,\n",
    "                # these values are scalars so pandas needs them\n",
    "                # to be wrapped in a list\n",
    "                'closest_db': point_db['closest'],\n",
    "                'quietest_db': point_db['quietest']\n",
    "            },\n",
    "            index = [0]\n",
    "            )\n",
    "\n",
    "            db_df = pd.concat([db_df, temp_df])\n",
    "\n",
    "db_df = db_df.reset_index(drop = True)"
   ]
  },
  {
   "cell_type": "code",
   "execution_count": 153,
   "metadata": {},
   "outputs": [],
   "source": [
    "db_df = db_df.assign(\n",
    "    diff_yn = lambda x: np.where(x.closest_db == x.quietest_db, 0, 1),\n",
    "    diff_db = lambda x: x.closest_db - x.quietest_db\n",
    ")"
   ]
  },
  {
   "cell_type": "code",
   "execution_count": 154,
   "metadata": {},
   "outputs": [
    {
     "data": {
      "text/plain": [
       "0.6905689964157706"
      ]
     },
     "execution_count": 154,
     "metadata": {},
     "output_type": "execute_result"
    }
   ],
   "source": [
    "np.mean(db_df.diff_yn)"
   ]
  },
  {
   "cell_type": "code",
   "execution_count": 155,
   "metadata": {},
   "outputs": [
    {
     "data": {
      "text/plain": [
       "[62.52914685178681, 53.09223375612168]"
      ]
     },
     "execution_count": 155,
     "metadata": {},
     "output_type": "execute_result"
    }
   ],
   "source": [
    "[\n",
    "    np.mean(db_df[db_df.diff_db > 0].closest_db),\n",
    "    np.mean(db_df[db_df.diff_db > 0].quietest_db)\n",
    "]"
   ]
  },
  {
   "cell_type": "code",
   "execution_count": 177,
   "metadata": {},
   "outputs": [
    {
     "data": {
      "text/plain": [
       "9.436913095665133"
      ]
     },
     "execution_count": 177,
     "metadata": {},
     "output_type": "execute_result"
    }
   ],
   "source": [
    "(np.mean(db_df[db_df.diff_db > 0].closest_db) -\n",
    "np.mean(db_df[db_df.diff_db > 0].quietest_db))"
   ]
  },
  {
   "cell_type": "code",
   "execution_count": 156,
   "metadata": {},
   "outputs": [
    {
     "data": {
      "text/html": [
       "<div>\n",
       "<style scoped>\n",
       "    .dataframe tbody tr th:only-of-type {\n",
       "        vertical-align: middle;\n",
       "    }\n",
       "\n",
       "    .dataframe tbody tr th {\n",
       "        vertical-align: top;\n",
       "    }\n",
       "\n",
       "    .dataframe thead th {\n",
       "        text-align: right;\n",
       "    }\n",
       "</style>\n",
       "<table border=\"1\" class=\"dataframe\">\n",
       "  <thead>\n",
       "    <tr style=\"text-align: right;\">\n",
       "      <th></th>\n",
       "      <th>wkday</th>\n",
       "      <th>hour</th>\n",
       "      <th>closest_db</th>\n",
       "      <th>quietest_db</th>\n",
       "      <th>diff_yn</th>\n",
       "      <th>diff_db</th>\n",
       "    </tr>\n",
       "  </thead>\n",
       "  <tbody>\n",
       "    <tr>\n",
       "      <th>0</th>\n",
       "      <td>0</td>\n",
       "      <td>12 am - 2 am</td>\n",
       "      <td>60.70</td>\n",
       "      <td>60.70</td>\n",
       "      <td>0</td>\n",
       "      <td>0.00</td>\n",
       "    </tr>\n",
       "    <tr>\n",
       "      <th>1</th>\n",
       "      <td>0</td>\n",
       "      <td>12 am - 2 am</td>\n",
       "      <td>63.16</td>\n",
       "      <td>60.70</td>\n",
       "      <td>1</td>\n",
       "      <td>2.46</td>\n",
       "    </tr>\n",
       "    <tr>\n",
       "      <th>2</th>\n",
       "      <td>0</td>\n",
       "      <td>12 am - 2 am</td>\n",
       "      <td>59.43</td>\n",
       "      <td>54.58</td>\n",
       "      <td>1</td>\n",
       "      <td>4.85</td>\n",
       "    </tr>\n",
       "    <tr>\n",
       "      <th>3</th>\n",
       "      <td>0</td>\n",
       "      <td>12 am - 2 am</td>\n",
       "      <td>60.81</td>\n",
       "      <td>60.81</td>\n",
       "      <td>0</td>\n",
       "      <td>0.00</td>\n",
       "    </tr>\n",
       "    <tr>\n",
       "      <th>4</th>\n",
       "      <td>0</td>\n",
       "      <td>12 am - 2 am</td>\n",
       "      <td>58.62</td>\n",
       "      <td>58.62</td>\n",
       "      <td>0</td>\n",
       "      <td>0.00</td>\n",
       "    </tr>\n",
       "  </tbody>\n",
       "</table>\n",
       "</div>"
      ],
      "text/plain": [
       "   wkday          hour  closest_db  quietest_db  diff_yn  diff_db\n",
       "0      0  12 am - 2 am       60.70        60.70        0     0.00\n",
       "1      0  12 am - 2 am       63.16        60.70        1     2.46\n",
       "2      0  12 am - 2 am       59.43        54.58        1     4.85\n",
       "3      0  12 am - 2 am       60.81        60.81        0     0.00\n",
       "4      0  12 am - 2 am       58.62        58.62        0     0.00"
      ]
     },
     "execution_count": 156,
     "metadata": {},
     "output_type": "execute_result"
    }
   ],
   "source": [
    "db_df.head()"
   ]
  },
  {
   "cell_type": "code",
   "execution_count": 175,
   "metadata": {},
   "outputs": [
    {
     "data": {
      "text/html": [
       "<div>\n",
       "<style scoped>\n",
       "    .dataframe tbody tr th:only-of-type {\n",
       "        vertical-align: middle;\n",
       "    }\n",
       "\n",
       "    .dataframe tbody tr th {\n",
       "        vertical-align: top;\n",
       "    }\n",
       "\n",
       "    .dataframe thead th {\n",
       "        text-align: right;\n",
       "    }\n",
       "</style>\n",
       "<table border=\"1\" class=\"dataframe\">\n",
       "  <thead>\n",
       "    <tr style=\"text-align: right;\">\n",
       "      <th></th>\n",
       "      <th></th>\n",
       "      <th>closest_db</th>\n",
       "      <th>quietest_db</th>\n",
       "      <th>diff_yn</th>\n",
       "      <th>diff_db</th>\n",
       "    </tr>\n",
       "    <tr>\n",
       "      <th>wkday</th>\n",
       "      <th>hour</th>\n",
       "      <th></th>\n",
       "      <th></th>\n",
       "      <th></th>\n",
       "      <th></th>\n",
       "    </tr>\n",
       "  </thead>\n",
       "  <tbody>\n",
       "    <tr>\n",
       "      <th rowspan=\"7\" valign=\"top\">0</th>\n",
       "      <th>11 am - 1 pm</th>\n",
       "      <td>61.325097</td>\n",
       "      <td>54.114634</td>\n",
       "      <td>0.680645</td>\n",
       "      <td>7.210462</td>\n",
       "    </tr>\n",
       "    <tr>\n",
       "      <th>12 am - 2 am</th>\n",
       "      <td>61.447688</td>\n",
       "      <td>54.326699</td>\n",
       "      <td>0.680645</td>\n",
       "      <td>7.120989</td>\n",
       "    </tr>\n",
       "    <tr>\n",
       "      <th>2 pm - 4 pm</th>\n",
       "      <td>62.813323</td>\n",
       "      <td>56.542957</td>\n",
       "      <td>0.691398</td>\n",
       "      <td>6.270366</td>\n",
       "    </tr>\n",
       "    <tr>\n",
       "      <th>3 am - 7 am</th>\n",
       "      <td>58.518946</td>\n",
       "      <td>51.738258</td>\n",
       "      <td>0.696774</td>\n",
       "      <td>6.780688</td>\n",
       "    </tr>\n",
       "    <tr>\n",
       "      <th>5 pm - 8 pm</th>\n",
       "      <td>63.099538</td>\n",
       "      <td>57.454849</td>\n",
       "      <td>0.689247</td>\n",
       "      <td>5.644688</td>\n",
       "    </tr>\n",
       "    <tr>\n",
       "      <th>8 am - 10 am</th>\n",
       "      <td>60.123151</td>\n",
       "      <td>52.814043</td>\n",
       "      <td>0.675269</td>\n",
       "      <td>7.309108</td>\n",
       "    </tr>\n",
       "    <tr>\n",
       "      <th>9 pm - 11 pm</th>\n",
       "      <td>62.697624</td>\n",
       "      <td>56.823753</td>\n",
       "      <td>0.702151</td>\n",
       "      <td>5.873871</td>\n",
       "    </tr>\n",
       "    <tr>\n",
       "      <th rowspan=\"7\" valign=\"top\">1</th>\n",
       "      <th>11 am - 1 pm</th>\n",
       "      <td>61.127280</td>\n",
       "      <td>53.998699</td>\n",
       "      <td>0.690323</td>\n",
       "      <td>7.128581</td>\n",
       "    </tr>\n",
       "    <tr>\n",
       "      <th>12 am - 2 am</th>\n",
       "      <td>61.398376</td>\n",
       "      <td>54.460398</td>\n",
       "      <td>0.682796</td>\n",
       "      <td>6.937978</td>\n",
       "    </tr>\n",
       "    <tr>\n",
       "      <th>2 pm - 4 pm</th>\n",
       "      <td>62.676161</td>\n",
       "      <td>56.542742</td>\n",
       "      <td>0.693548</td>\n",
       "      <td>6.133419</td>\n",
       "    </tr>\n",
       "    <tr>\n",
       "      <th>3 am - 7 am</th>\n",
       "      <td>58.369645</td>\n",
       "      <td>51.658914</td>\n",
       "      <td>0.688172</td>\n",
       "      <td>6.710731</td>\n",
       "    </tr>\n",
       "    <tr>\n",
       "      <th>5 pm - 8 pm</th>\n",
       "      <td>63.000043</td>\n",
       "      <td>57.506591</td>\n",
       "      <td>0.710753</td>\n",
       "      <td>5.493452</td>\n",
       "    </tr>\n",
       "    <tr>\n",
       "      <th>8 am - 10 am</th>\n",
       "      <td>59.936323</td>\n",
       "      <td>52.690860</td>\n",
       "      <td>0.675269</td>\n",
       "      <td>7.245462</td>\n",
       "    </tr>\n",
       "    <tr>\n",
       "      <th>9 pm - 11 pm</th>\n",
       "      <td>62.543172</td>\n",
       "      <td>56.840527</td>\n",
       "      <td>0.702151</td>\n",
       "      <td>5.702645</td>\n",
       "    </tr>\n",
       "  </tbody>\n",
       "</table>\n",
       "</div>"
      ],
      "text/plain": [
       "                    closest_db  quietest_db   diff_yn   diff_db\n",
       "wkday hour                                                     \n",
       "0     11 am - 1 pm   61.325097    54.114634  0.680645  7.210462\n",
       "      12 am - 2 am   61.447688    54.326699  0.680645  7.120989\n",
       "      2 pm - 4 pm    62.813323    56.542957  0.691398  6.270366\n",
       "      3 am - 7 am    58.518946    51.738258  0.696774  6.780688\n",
       "      5 pm - 8 pm    63.099538    57.454849  0.689247  5.644688\n",
       "      8 am - 10 am   60.123151    52.814043  0.675269  7.309108\n",
       "      9 pm - 11 pm   62.697624    56.823753  0.702151  5.873871\n",
       "1     11 am - 1 pm   61.127280    53.998699  0.690323  7.128581\n",
       "      12 am - 2 am   61.398376    54.460398  0.682796  6.937978\n",
       "      2 pm - 4 pm    62.676161    56.542742  0.693548  6.133419\n",
       "      3 am - 7 am    58.369645    51.658914  0.688172  6.710731\n",
       "      5 pm - 8 pm    63.000043    57.506591  0.710753  5.493452\n",
       "      8 am - 10 am   59.936323    52.690860  0.675269  7.245462\n",
       "      9 pm - 11 pm   62.543172    56.840527  0.702151  5.702645"
      ]
     },
     "execution_count": 175,
     "metadata": {},
     "output_type": "execute_result"
    }
   ],
   "source": [
    "db_df.groupby(['wkday', 'hour']).mean()"
   ]
  },
  {
   "cell_type": "code",
   "execution_count": 179,
   "metadata": {},
   "outputs": [],
   "source": [
    "db_df.to_csv('/Users/Ben/Dropbox/Insight/noisemap/assessment/assessment.csv')"
   ]
  },
  {
   "cell_type": "code",
   "execution_count": null,
   "metadata": {},
   "outputs": [],
   "source": []
  }
 ],
 "metadata": {
  "kernelspec": {
   "display_name": "Python 3",
   "language": "python",
   "name": "python3"
  },
  "language_info": {
   "codemirror_mode": {
    "name": "ipython",
    "version": 3
   },
   "file_extension": ".py",
   "mimetype": "text/x-python",
   "name": "python",
   "nbconvert_exporter": "python",
   "pygments_lexer": "ipython3",
   "version": "3.6.8"
  }
 },
 "nbformat": 4,
 "nbformat_minor": 2
}
