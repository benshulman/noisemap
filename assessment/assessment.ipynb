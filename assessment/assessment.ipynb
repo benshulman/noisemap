{
 "cells": [
  {
   "cell_type": "markdown",
   "metadata": {},
   "source": [
    "# Assessing the performance of guessing the grand mean accross observations"
   ]
  },
  {
   "cell_type": "code",
   "execution_count": 78,
   "metadata": {},
   "outputs": [],
   "source": [
    "import pandas as pd\n",
    "import numpy as np\n",
    "from sklearn.dummy import DummyRegressor\n",
    "from sklearn.metrics import r2_score\n",
    "from random import sample\n",
    "import geopy.distance\n",
    "from geopy import distance\n",
    "import itertools\n",
    "\n",
    "noise = pd.read_csv('/Users/Ben/Dropbox/Insight/noisemap/data-merge/noise-merged.csv')"
   ]
  },
  {
   "cell_type": "code",
   "execution_count": 23,
   "metadata": {},
   "outputs": [],
   "source": [
    "lreg = DummyRegressor(strategy = 'mean')\n",
    "lreg = lreg.fit(y = noise.db, X = noise.drop('db', axis = 1))"
   ]
  },
  {
   "cell_type": "code",
   "execution_count": 30,
   "metadata": {},
   "outputs": [
    {
     "data": {
      "text/plain": [
       "0.0"
      ]
     },
     "execution_count": 30,
     "metadata": {},
     "output_type": "execute_result"
    }
   ],
   "source": [
    "r2_score(noise.db, lreg.predict(noise.drop('db', axis = 1)))"
   ]
  },
  {
   "cell_type": "markdown",
   "metadata": {},
   "source": [
    "# Assessing the benefit of finding the quietest park"
   ]
  },
  {
   "cell_type": "code",
   "execution_count": 112,
   "metadata": {},
   "outputs": [],
   "source": [
    "park_locs = pd.read_csv('/Users/Ben/Dropbox/Insight/noisemap/dash/parks_clean.csv')\n",
    "park_preds = pd.read_csv('/Users/Ben/Dropbox/Insight/noisemap/dash/parks_out.csv')\n",
    "\n",
    "def calc_park_dist(user_coord):\n",
    "    '''\n",
    "    Calculate distance between user coords and all parks\n",
    "    '''\n",
    "    park_dists = []\n",
    "    all_dists = [geopy.distance.distance(\n",
    "                (user_coord['lat'], user_coord['lng']),\n",
    "                (p_lat, p_lng)\n",
    "                ).m for p_lat, p_lng in zip(park_locs.lat, park_locs.lng)]\n",
    "    park_out = park_locs.assign(dists = all_dists)\n",
    "    return park_out\n",
    "\n",
    "bounds = [[42.23, -71.20], [42.419, -70.95]]\n",
    "\n",
    "def sample_points(bounds, n): \n",
    "    '''\n",
    "    samples a point from within the bounding box\n",
    "    '''\n",
    "    lat_vals = np.random.uniform(bounds[0][0], bounds[1][0], n)\n",
    "    lng_vals = np.random.uniform(bounds[0][1], bounds[1][1], n)\n",
    "    \n",
    "    user_points = [{\n",
    "        # sample lat range\n",
    "        'lat': lat,\n",
    "        # sample lng range\n",
    "        'lng': lng\n",
    "    } for lat, lng in zip(lat_vals, lng_vals)\n",
    "    ]\n",
    "    \n",
    "    return user_points\n",
    "\n",
    "def compare_parks(user_point, hour_bkt, wkday):\n",
    "    '''\n",
    "    finds the predicted db level for the quietest park in 2 miles\n",
    "    and the nearest park\n",
    "    '''\n",
    "    # get park dists\n",
    "    parkdists = calc_park_dist(user_point)\n",
    "    # filter for parks less than 2 miles\n",
    "    # 3218.688 m == 2 miles \n",
    "    close_parks = parkdists[parkdists.dists < 3218]\n",
    "    \n",
    "    if len(close_parks) > 0:\n",
    "    \n",
    "        # get park preds\n",
    "        close_park_preds = park_preds[park_preds.parkname.isin(close_parks.name)]\n",
    "        # filter for current time\n",
    "        close_park_preds = close_park_preds[\n",
    "            (close_park_preds.hr_bkt == hour_bkt) &\n",
    "            (close_park_preds.wkday == wkday)\n",
    "        ]\n",
    "\n",
    "        # find quietest park\n",
    "        quietest_park = close_park_preds[\n",
    "            close_park_preds.db == close_park_preds.db.min()\n",
    "        ].to_dict(orient = 'records')[0]\n",
    "\n",
    "        # find the closest park\n",
    "        closest_park_name = parkdists.loc[parkdists.dists == parkdists.dists.min(), 'name'].values[0]\n",
    "        closest_park = close_park_preds[\n",
    "            close_park_preds.parkname == closest_park_name\n",
    "        ].to_dict(orient = 'records')[0]\n",
    "\n",
    "        return {'closest': closest_park['db'], 'quietest': quietest_park['db']}"
   ]
  },
  {
   "cell_type": "code",
   "execution_count": 152,
   "metadata": {},
   "outputs": [
    {
     "name": "stdout",
     "output_type": "stream",
     "text": [
      "012 am - 2 am\n",
      "012 am - 2 am\n",
      "012 am - 2 am\n",
      "03 am - 7 am\n",
      "03 am - 7 am\n",
      "03 am - 7 am\n",
      "03 am - 7 am\n",
      "03 am - 7 am\n",
      "08 am - 10 am\n",
      "08 am - 10 am\n",
      "08 am - 10 am\n",
      "011 am - 1 pm\n",
      "011 am - 1 pm\n",
      "011 am - 1 pm\n",
      "02 pm - 4 pm\n",
      "02 pm - 4 pm\n",
      "02 pm - 4 pm\n",
      "05 pm - 8 pm\n",
      "05 pm - 8 pm\n",
      "05 pm - 8 pm\n",
      "05 pm - 8 pm\n",
      "09 pm - 11 pm\n",
      "09 pm - 11 pm\n",
      "09 pm - 11 pm\n",
      "112 am - 2 am\n",
      "112 am - 2 am\n",
      "112 am - 2 am\n",
      "13 am - 7 am\n",
      "13 am - 7 am\n",
      "13 am - 7 am\n",
      "13 am - 7 am\n",
      "13 am - 7 am\n",
      "18 am - 10 am\n",
      "18 am - 10 am\n",
      "18 am - 10 am\n",
      "111 am - 1 pm\n",
      "111 am - 1 pm\n",
      "111 am - 1 pm\n",
      "12 pm - 4 pm\n",
      "12 pm - 4 pm\n",
      "12 pm - 4 pm\n",
      "15 pm - 8 pm\n",
      "15 pm - 8 pm\n",
      "15 pm - 8 pm\n",
      "15 pm - 8 pm\n",
      "19 pm - 11 pm\n",
      "19 pm - 11 pm\n",
      "19 pm - 11 pm\n"
     ]
    }
   ],
   "source": [
    "wkday = [0, 1]\n",
    "hour_bkt = {\n",
    "    0: '12 am - 2 am',\n",
    "    1: '12 am - 2 am',\n",
    "    2: '12 am - 2 am',\n",
    "    3: '3 am - 7 am',\n",
    "    4: '3 am - 7 am',\n",
    "    5: '3 am - 7 am',\n",
    "    6: '3 am - 7 am',\n",
    "    7: '3 am - 7 am',\n",
    "    8: '8 am - 10 am',\n",
    "    9: '8 am - 10 am',\n",
    "    10: '8 am - 10 am',\n",
    "    11: '11 am - 1 pm',\n",
    "    12: '11 am - 1 pm',\n",
    "    13: '11 am - 1 pm',\n",
    "    14: '2 pm - 4 pm',\n",
    "    15: '2 pm - 4 pm',\n",
    "    16: '2 pm - 4 pm',\n",
    "    17: '5 pm - 8 pm',\n",
    "    18: '5 pm - 8 pm',\n",
    "    19: '5 pm - 8 pm',\n",
    "    20: '5 pm - 8 pm',\n",
    "    21: '9 pm - 11 pm',\n",
    "    22: '9 pm - 11 pm',\n",
    "    23: '9 pm - 11 pm'\n",
    "}\n",
    "\n",
    "day_hour = itertools.product(wkday, hour_bkt.values())\n",
    "\n",
    "points = sample_points(bounds, 1000)\n",
    "\n",
    "db_df = pd.DataFrame()\n",
    "for wkday, hour in day_hour:\n",
    "    print(str(wkday) + hour)\n",
    "    for point in points:\n",
    "        point_db = compare_parks(point, hour, wkday)\n",
    "        if point_db:\n",
    "            temp_df = pd.DataFrame({\n",
    "                'wkday': wkday,\n",
    "                'hour': hour,\n",
    "                # these values are scalars so pandas needs them\n",
    "                # to be wrapped in a list\n",
    "                'closest_db': point_db['closest'],\n",
    "                'quietest_db': point_db['quietest']\n",
    "            },\n",
    "            index = [0]\n",
    "            )\n",
    "\n",
    "            db_df = pd.concat([db_df, temp_df])\n",
    "\n",
    "db_df = db_df.reset_index(drop = True)"
   ]
  },
  {
   "cell_type": "code",
   "execution_count": 153,
   "metadata": {},
   "outputs": [],
   "source": [
    "db_df = db_df.assign(\n",
    "    diff_yn = lambda x: np.where(x.closest_db == x.quietest_db, 0 , 1),\n",
    "    diff_db = lambda x: x.closest_db - x.quietest_db\n",
    ")"
   ]
  },
  {
   "cell_type": "code",
   "execution_count": 154,
   "metadata": {},
   "outputs": [
    {
     "data": {
      "text/plain": [
       "0.6905689964157706"
      ]
     },
     "execution_count": 154,
     "metadata": {},
     "output_type": "execute_result"
    }
   ],
   "source": [
    "np.mean(db_df.diff_yn)"
   ]
  },
  {
   "cell_type": "code",
   "execution_count": 155,
   "metadata": {},
   "outputs": [
    {
     "data": {
      "text/plain": [
       "[62.52914685178681, 53.09223375612168]"
      ]
     },
     "execution_count": 155,
     "metadata": {},
     "output_type": "execute_result"
    }
   ],
   "source": [
    "[\n",
    "    np.mean(db_df[db_df.diff_db > 0].closest_db),\n",
    "    np.mean(db_df[db_df.diff_db > 0].quietest_db)\n",
    "]"
   ]
  }
 ],
 "metadata": {
  "kernelspec": {
   "display_name": "Python 3",
   "language": "python",
   "name": "python3"
  },
  "language_info": {
   "codemirror_mode": {
    "name": "ipython",
    "version": 3
   },
   "file_extension": ".py",
   "mimetype": "text/x-python",
   "name": "python",
   "nbconvert_exporter": "python",
   "pygments_lexer": "ipython3",
   "version": "3.6.8"
  }
 },
 "nbformat": 4,
 "nbformat_minor": 2
}
